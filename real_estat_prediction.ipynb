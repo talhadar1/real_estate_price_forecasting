{
  "nbformat": 4,
  "nbformat_minor": 0,
  "metadata": {
    "colab": {
      "name": "real_estat_prediction.ipynb",
      "provenance": [],
      "collapsed_sections": [],
      "toc_visible": true,
      "machine_shape": "hm",
      "mount_file_id": "1lhmEcNyrPL7SM9ezdd07PJ4O2kqnhC9N",
      "authorship_tag": "ABX9TyNeeLpBbg2577d1to6gQJLS",
      "include_colab_link": true
    },
    "kernelspec": {
      "name": "python3",
      "display_name": "Python 3"
    },
    "accelerator": "GPU",
    "widgets": {
      "application/vnd.jupyter.widget-state+json": {
        "afe381452cbc4283bc364e61cd2c40be": {
          "model_module": "@jupyter-widgets/controls",
          "model_name": "HBoxModel",
          "state": {
            "_view_name": "HBoxView",
            "_dom_classes": [],
            "_model_name": "HBoxModel",
            "_view_module": "@jupyter-widgets/controls",
            "_model_module_version": "1.5.0",
            "_view_count": null,
            "_view_module_version": "1.5.0",
            "box_style": "",
            "layout": "IPY_MODEL_bbea6fe7f2164149acc3821bf63ac754",
            "_model_module": "@jupyter-widgets/controls",
            "children": [
              "IPY_MODEL_07fd71eb4b3c44299dee8546bfe7449f",
              "IPY_MODEL_3b94b604a7c9451ea653bf2a0331df9e"
            ]
          }
        },
        "bbea6fe7f2164149acc3821bf63ac754": {
          "model_module": "@jupyter-widgets/base",
          "model_name": "LayoutModel",
          "state": {
            "_view_name": "LayoutView",
            "grid_template_rows": null,
            "right": null,
            "justify_content": null,
            "_view_module": "@jupyter-widgets/base",
            "overflow": null,
            "_model_module_version": "1.2.0",
            "_view_count": null,
            "flex_flow": null,
            "width": null,
            "min_width": null,
            "border": null,
            "align_items": null,
            "bottom": null,
            "_model_module": "@jupyter-widgets/base",
            "top": null,
            "grid_column": null,
            "overflow_y": null,
            "overflow_x": null,
            "grid_auto_flow": null,
            "grid_area": null,
            "grid_template_columns": null,
            "flex": null,
            "_model_name": "LayoutModel",
            "justify_items": null,
            "grid_row": null,
            "max_height": null,
            "align_content": null,
            "visibility": null,
            "align_self": null,
            "height": null,
            "min_height": null,
            "padding": null,
            "grid_auto_rows": null,
            "grid_gap": null,
            "max_width": null,
            "order": null,
            "_view_module_version": "1.2.0",
            "grid_template_areas": null,
            "object_position": null,
            "object_fit": null,
            "grid_auto_columns": null,
            "margin": null,
            "display": null,
            "left": null
          }
        },
        "07fd71eb4b3c44299dee8546bfe7449f": {
          "model_module": "@jupyter-widgets/controls",
          "model_name": "FloatProgressModel",
          "state": {
            "_view_name": "ProgressView",
            "style": "IPY_MODEL_b75ed47735754e7eadf2c81a6996e7ab",
            "_dom_classes": [],
            "description": "variables:  94%",
            "_model_name": "FloatProgressModel",
            "bar_style": "",
            "max": 18,
            "_view_module": "@jupyter-widgets/controls",
            "_model_module_version": "1.5.0",
            "value": 17,
            "_view_count": null,
            "_view_module_version": "1.5.0",
            "orientation": "horizontal",
            "min": 0,
            "description_tooltip": null,
            "_model_module": "@jupyter-widgets/controls",
            "layout": "IPY_MODEL_18789b72a71b42d2afa4ac4031fb7ec0"
          }
        },
        "3b94b604a7c9451ea653bf2a0331df9e": {
          "model_module": "@jupyter-widgets/controls",
          "model_name": "HTMLModel",
          "state": {
            "_view_name": "HTMLView",
            "style": "IPY_MODEL_de979cad8ad744dab8e96910d5f07e98",
            "_dom_classes": [],
            "description": "",
            "_model_name": "HTMLModel",
            "placeholder": "​",
            "_view_module": "@jupyter-widgets/controls",
            "_model_module_version": "1.5.0",
            "value": " 17/18 [14:28&lt;02:34, 154.95s/it]",
            "_view_count": null,
            "_view_module_version": "1.5.0",
            "description_tooltip": null,
            "_model_module": "@jupyter-widgets/controls",
            "layout": "IPY_MODEL_44249d1013f24781b6cf25e4de167c92"
          }
        },
        "b75ed47735754e7eadf2c81a6996e7ab": {
          "model_module": "@jupyter-widgets/controls",
          "model_name": "ProgressStyleModel",
          "state": {
            "_view_name": "StyleView",
            "_model_name": "ProgressStyleModel",
            "description_width": "initial",
            "_view_module": "@jupyter-widgets/base",
            "_model_module_version": "1.5.0",
            "_view_count": null,
            "_view_module_version": "1.2.0",
            "bar_color": null,
            "_model_module": "@jupyter-widgets/controls"
          }
        },
        "18789b72a71b42d2afa4ac4031fb7ec0": {
          "model_module": "@jupyter-widgets/base",
          "model_name": "LayoutModel",
          "state": {
            "_view_name": "LayoutView",
            "grid_template_rows": null,
            "right": null,
            "justify_content": null,
            "_view_module": "@jupyter-widgets/base",
            "overflow": null,
            "_model_module_version": "1.2.0",
            "_view_count": null,
            "flex_flow": null,
            "width": null,
            "min_width": null,
            "border": null,
            "align_items": null,
            "bottom": null,
            "_model_module": "@jupyter-widgets/base",
            "top": null,
            "grid_column": null,
            "overflow_y": null,
            "overflow_x": null,
            "grid_auto_flow": null,
            "grid_area": null,
            "grid_template_columns": null,
            "flex": null,
            "_model_name": "LayoutModel",
            "justify_items": null,
            "grid_row": null,
            "max_height": null,
            "align_content": null,
            "visibility": null,
            "align_self": null,
            "height": null,
            "min_height": null,
            "padding": null,
            "grid_auto_rows": null,
            "grid_gap": null,
            "max_width": null,
            "order": null,
            "_view_module_version": "1.2.0",
            "grid_template_areas": null,
            "object_position": null,
            "object_fit": null,
            "grid_auto_columns": null,
            "margin": null,
            "display": null,
            "left": null
          }
        },
        "de979cad8ad744dab8e96910d5f07e98": {
          "model_module": "@jupyter-widgets/controls",
          "model_name": "DescriptionStyleModel",
          "state": {
            "_view_name": "StyleView",
            "_model_name": "DescriptionStyleModel",
            "description_width": "",
            "_view_module": "@jupyter-widgets/base",
            "_model_module_version": "1.5.0",
            "_view_count": null,
            "_view_module_version": "1.2.0",
            "_model_module": "@jupyter-widgets/controls"
          }
        },
        "44249d1013f24781b6cf25e4de167c92": {
          "model_module": "@jupyter-widgets/base",
          "model_name": "LayoutModel",
          "state": {
            "_view_name": "LayoutView",
            "grid_template_rows": null,
            "right": null,
            "justify_content": null,
            "_view_module": "@jupyter-widgets/base",
            "overflow": null,
            "_model_module_version": "1.2.0",
            "_view_count": null,
            "flex_flow": null,
            "width": null,
            "min_width": null,
            "border": null,
            "align_items": null,
            "bottom": null,
            "_model_module": "@jupyter-widgets/base",
            "top": null,
            "grid_column": null,
            "overflow_y": null,
            "overflow_x": null,
            "grid_auto_flow": null,
            "grid_area": null,
            "grid_template_columns": null,
            "flex": null,
            "_model_name": "LayoutModel",
            "justify_items": null,
            "grid_row": null,
            "max_height": null,
            "align_content": null,
            "visibility": null,
            "align_self": null,
            "height": null,
            "min_height": null,
            "padding": null,
            "grid_auto_rows": null,
            "grid_gap": null,
            "max_width": null,
            "order": null,
            "_view_module_version": "1.2.0",
            "grid_template_areas": null,
            "object_position": null,
            "object_fit": null,
            "grid_auto_columns": null,
            "margin": null,
            "display": null,
            "left": null
          }
        }
      }
    }
  },
  "cells": [
    {
      "cell_type": "markdown",
      "metadata": {
        "id": "view-in-github",
        "colab_type": "text"
      },
      "source": [
        "<a href=\"https://colab.research.google.com/github/talhadar1/real_estate_price_forecasting/blob/master/real_estat_prediction.ipynb\" target=\"_parent\"><img src=\"https://colab.research.google.com/assets/colab-badge.svg\" alt=\"Open In Colab\"/></a>"
      ]
    },
    {
      "cell_type": "code",
      "metadata": {
        "id": "-jNxd0R4uaP6",
        "colab_type": "code",
        "outputId": "542437c0-f0a0-49ad-86bb-0a2230dbc2d7",
        "colab": {
          "base_uri": "https://localhost:8080/",
          "height": 34
        }
      },
      "source": [
        "from google.colab import drive\n",
        "drive.mount('/content/drive/')"
      ],
      "execution_count": 0,
      "outputs": [
        {
          "output_type": "stream",
          "text": [
            "Drive already mounted at /content/drive/; to attempt to forcibly remount, call drive.mount(\"/content/drive/\", force_remount=True).\n"
          ],
          "name": "stdout"
        }
      ]
    },
    {
      "cell_type": "code",
      "metadata": {
        "id": "pX4BMotn4ugv",
        "colab_type": "code",
        "outputId": "448a73c7-4f07-4ff6-ed9b-928ec5b0cefa",
        "colab": {
          "base_uri": "https://localhost:8080/",
          "height": 34
        }
      },
      "source": [
        "import os\n",
        "os.getcwd()\n",
        "# !pip install -U pandas-profiling\n",
        "\n"
      ],
      "execution_count": 0,
      "outputs": [
        {
          "output_type": "execute_result",
          "data": {
            "text/plain": [
              "'/content'"
            ]
          },
          "metadata": {
            "tags": []
          },
          "execution_count": 1
        }
      ]
    },
    {
      "cell_type": "code",
      "metadata": {
        "id": "pEFB1Sa2ZCQu",
        "colab_type": "code",
        "colab": {}
      },
      "source": [
        "# #Adding more RAM to the COLAB machine:\n",
        "# #https://towardsdatascience.com/upgrade-your-memory-on-google-colab-for-free-1b8b18e8791d\n",
        "# a = []\n",
        "# while(1):\n",
        "#     a.append('1')"
      ],
      "execution_count": 0,
      "outputs": []
    },
    {
      "cell_type": "markdown",
      "metadata": {
        "id": "d4PJSPDfFUif",
        "colab_type": "text"
      },
      "source": [
        "# **Import libraries and files:**"
      ]
    },
    {
      "cell_type": "code",
      "metadata": {
        "id": "akOm1DaKYUNL",
        "colab_type": "code",
        "colab": {}
      },
      "source": [
        "import pandas as pd\n",
        "import pandas_profiling\n",
        "from pandas_profiling import ProfileReport\n",
        "from sklearn.model_selection import train_test_split\n",
        "import numpy as np\n",
        "folder_path = '/content/drive/My Drive/seminar_data/'\n",
        "file_name = 'TransactionsXLSsince2008.xlsx'"
      ],
      "execution_count": 0,
      "outputs": []
    },
    {
      "cell_type": "markdown",
      "metadata": {
        "id": "3fxIT4YAFkFl",
        "colab_type": "text"
      },
      "source": [
        "# **import data:**"
      ]
    },
    {
      "cell_type": "code",
      "metadata": {
        "id": "-Q3aqPDPvdFk",
        "colab_type": "code",
        "colab": {}
      },
      "source": [
        "original = pd.read_excel(folder_path + file_name)"
      ],
      "execution_count": 0,
      "outputs": []
    },
    {
      "cell_type": "code",
      "metadata": {
        "id": "JfFtSd63bIHs",
        "colab_type": "code",
        "outputId": "78008df2-0ff0-426a-ed61-fd095f268bcb",
        "colab": {
          "base_uri": "https://localhost:8080/",
          "height": 289
        }
      },
      "source": [
        "original.head()"
      ],
      "execution_count": 0,
      "outputs": [
        {
          "output_type": "execute_result",
          "data": {
            "text/html": [
              "<div>\n",
              "<style scoped>\n",
              "    .dataframe tbody tr th:only-of-type {\n",
              "        vertical-align: middle;\n",
              "    }\n",
              "\n",
              "    .dataframe tbody tr th {\n",
              "        vertical-align: top;\n",
              "    }\n",
              "\n",
              "    .dataframe thead th {\n",
              "        text-align: right;\n",
              "    }\n",
              "</style>\n",
              "<table border=\"1\" class=\"dataframe\">\n",
              "  <thead>\n",
              "    <tr style=\"text-align: right;\">\n",
              "      <th></th>\n",
              "      <th>gush_helka</th>\n",
              "      <th>tat_helka</th>\n",
              "      <th>date_transaction</th>\n",
              "      <th>price_sheqel</th>\n",
              "      <th>city_hebrew</th>\n",
              "      <th>rechov</th>\n",
              "      <th>year_of_construction</th>\n",
              "      <th>bayit</th>\n",
              "      <th>floor</th>\n",
              "      <th>shetachneto</th>\n",
              "      <th>type</th>\n",
              "      <th>floors</th>\n",
              "      <th>dirotbnyn</th>\n",
              "      <th>dira</th>\n",
              "      <th>year</th>\n",
              "      <th>month</th>\n",
              "      <th>day</th>\n",
              "      <th>soceco</th>\n",
              "    </tr>\n",
              "  </thead>\n",
              "  <tbody>\n",
              "    <tr>\n",
              "      <th>0</th>\n",
              "      <td>007621-0467</td>\n",
              "      <td>060-00</td>\n",
              "      <td>2019-07-25</td>\n",
              "      <td>2585000.0</td>\n",
              "      <td>כפר סבא</td>\n",
              "      <td>לוונברג</td>\n",
              "      <td>2011.0</td>\n",
              "      <td>9.0</td>\n",
              "      <td>1.0</td>\n",
              "      <td>112.0</td>\n",
              "      <td>דירה בבית קומות</td>\n",
              "      <td>6.0</td>\n",
              "      <td>19.0</td>\n",
              "      <td>4.0</td>\n",
              "      <td>2019.0</td>\n",
              "      <td>7.0</td>\n",
              "      <td>25.0</td>\n",
              "      <td>0.139017</td>\n",
              "    </tr>\n",
              "    <tr>\n",
              "      <th>1</th>\n",
              "      <td>007074-0022</td>\n",
              "      <td>060-00</td>\n",
              "      <td>2019-07-25</td>\n",
              "      <td>1940000.0</td>\n",
              "      <td>תל אביב -יפו</td>\n",
              "      <td>נחל הבשור</td>\n",
              "      <td>1970.0</td>\n",
              "      <td>1.0</td>\n",
              "      <td>11.0</td>\n",
              "      <td>72.0</td>\n",
              "      <td>דירה בבית קומות</td>\n",
              "      <td>14.0</td>\n",
              "      <td>72.0</td>\n",
              "      <td>0.0</td>\n",
              "      <td>2019.0</td>\n",
              "      <td>7.0</td>\n",
              "      <td>25.0</td>\n",
              "      <td>-0.499218</td>\n",
              "    </tr>\n",
              "    <tr>\n",
              "      <th>2</th>\n",
              "      <td>012612-0008</td>\n",
              "      <td>044-00</td>\n",
              "      <td>2019-07-25</td>\n",
              "      <td>1400000.0</td>\n",
              "      <td>אור עקיבא</td>\n",
              "      <td>הכרמל</td>\n",
              "      <td>2005.0</td>\n",
              "      <td>13.0</td>\n",
              "      <td>1.0</td>\n",
              "      <td>85.0</td>\n",
              "      <td>דירה בבית קומות</td>\n",
              "      <td>4.0</td>\n",
              "      <td>11.0</td>\n",
              "      <td>2.0</td>\n",
              "      <td>2019.0</td>\n",
              "      <td>7.0</td>\n",
              "      <td>25.0</td>\n",
              "      <td>-0.759605</td>\n",
              "    </tr>\n",
              "    <tr>\n",
              "      <th>3</th>\n",
              "      <td>006435-0284</td>\n",
              "      <td>023-00</td>\n",
              "      <td>2019-07-24</td>\n",
              "      <td>1800000.0</td>\n",
              "      <td>כפר סבא</td>\n",
              "      <td>נורדאו</td>\n",
              "      <td>1998.0</td>\n",
              "      <td>2.0</td>\n",
              "      <td>2.0</td>\n",
              "      <td>109.0</td>\n",
              "      <td>דירה בבית קומות</td>\n",
              "      <td>7.0</td>\n",
              "      <td>29.0</td>\n",
              "      <td>4.0</td>\n",
              "      <td>2019.0</td>\n",
              "      <td>7.0</td>\n",
              "      <td>24.0</td>\n",
              "      <td>0.294809</td>\n",
              "    </tr>\n",
              "    <tr>\n",
              "      <th>4</th>\n",
              "      <td>007960-0031</td>\n",
              "      <td>028-00</td>\n",
              "      <td>2019-07-24</td>\n",
              "      <td>1220000.0</td>\n",
              "      <td>נתניה</td>\n",
              "      <td>קצנלסון יצחק</td>\n",
              "      <td>1970.0</td>\n",
              "      <td>13.0</td>\n",
              "      <td>7.0</td>\n",
              "      <td>62.0</td>\n",
              "      <td>דירה בבית קומות</td>\n",
              "      <td>8.0</td>\n",
              "      <td>32.0</td>\n",
              "      <td>28.0</td>\n",
              "      <td>2019.0</td>\n",
              "      <td>7.0</td>\n",
              "      <td>24.0</td>\n",
              "      <td>-0.647234</td>\n",
              "    </tr>\n",
              "  </tbody>\n",
              "</table>\n",
              "</div>"
            ],
            "text/plain": [
              "    gush_helka tat_helka date_transaction  ...  month   day    soceco\n",
              "0  007621-0467    060-00       2019-07-25  ...    7.0  25.0  0.139017\n",
              "1  007074-0022    060-00       2019-07-25  ...    7.0  25.0 -0.499218\n",
              "2  012612-0008    044-00       2019-07-25  ...    7.0  25.0 -0.759605\n",
              "3  006435-0284    023-00       2019-07-24  ...    7.0  24.0  0.294809\n",
              "4  007960-0031    028-00       2019-07-24  ...    7.0  24.0 -0.647234\n",
              "\n",
              "[5 rows x 18 columns]"
            ]
          },
          "metadata": {
            "tags": []
          },
          "execution_count": 4
        }
      ]
    },
    {
      "cell_type": "code",
      "metadata": {
        "id": "xndZOILDl6L8",
        "colab_type": "code",
        "outputId": "6bd65154-2d1f-4ac6-e7a6-9aaca58fe9a3",
        "colab": {
          "base_uri": "https://localhost:8080/",
          "height": 49,
          "referenced_widgets": [
            "afe381452cbc4283bc364e61cd2c40be",
            "bbea6fe7f2164149acc3821bf63ac754",
            "07fd71eb4b3c44299dee8546bfe7449f",
            "3b94b604a7c9451ea653bf2a0331df9e",
            "b75ed47735754e7eadf2c81a6996e7ab",
            "18789b72a71b42d2afa4ac4031fb7ec0",
            "de979cad8ad744dab8e96910d5f07e98",
            "44249d1013f24781b6cf25e4de167c92"
          ]
        }
      },
      "source": [
        "profile_report = original.profile_report(html={'style': {'full_width': True}})\n",
        "profile.to_file(outputfile = folder_path + 'original_data.html')\n",
        "\n",
        "# ProfileReport(original,style={'full_width':True})\n",
        "# ProfileReport(original)\n",
        "# original.profile_report(style={'full_width':True})\n"
      ],
      "execution_count": 0,
      "outputs": [
        {
          "output_type": "display_data",
          "data": {
            "application/vnd.jupyter.widget-view+json": {
              "model_id": "afe381452cbc4283bc364e61cd2c40be",
              "version_minor": 0,
              "version_major": 2
            },
            "text/plain": [
              "HBox(children=(FloatProgress(value=0.0, description='variables', max=18.0, style=ProgressStyle(description_wid…"
            ]
          },
          "metadata": {
            "tags": []
          }
        }
      ]
    },
    {
      "cell_type": "markdown",
      "metadata": {
        "id": "qfx6bhkSkj34",
        "colab_type": "text"
      },
      "source": [
        "\n",
        "1.   Note that the transaction date appears as both date_transaction and split date year, month and day. The full date does not give us good data for days and months so we will lower it. And leave the three properties of the second option.\n",
        "2.  \n",
        "\n",
        "\n",
        "---\n",
        "\n"
      ]
    },
    {
      "cell_type": "markdown",
      "metadata": {
        "id": "dxVODIVYxSJ9",
        "colab_type": "text"
      },
      "source": [
        "validate the dimensions of the dataframe:"
      ]
    },
    {
      "cell_type": "code",
      "metadata": {
        "id": "8Wu0rNymxPTy",
        "colab_type": "code",
        "colab": {}
      },
      "source": [
        "# dataframe.size - number of cells\n",
        "size = df.size \n",
        "  \n",
        "# dataframe.shape - shape[0]=number of rows  | shape[1]=number of columns\n",
        "shape = df.shape \n",
        "\n",
        "# printing size and shape \n",
        "print(\"number of cells = {}\\nShape ={}\\#ROWS x #COLUMNS = {}\". format(size, shape, shape[0]*shape[1])) "
      ],
      "execution_count": 0,
      "outputs": []
    },
    {
      "cell_type": "code",
      "metadata": {
        "id": "q3jAuwLFbPRL",
        "colab_type": "code",
        "outputId": "a71223b6-b6e1-4145-bc00-ed8545dd9bbb",
        "colab": {
          "base_uri": "https://localhost:8080/",
          "height": 68
        }
      },
      "source": [
        "profile.to_file(outputfile = folder_path + 'original_data.html')\n",
        "df = original.drop(['rechov', 'date_transaction', 'city_hebrew', 'tat_helka', 'bayit', 'dira'], axis=1).dropna(how='all')\n"
      ],
      "execution_count": 0,
      "outputs": [
        {
          "output_type": "stream",
          "text": [
            "number of cells = 7975140\n",
            "Shape =(664595, 12)\n",
            "Shape[0] x Shape[1] = 7975140\n"
          ],
          "name": "stdout"
        }
      ]
    },
    {
      "cell_type": "markdown",
      "metadata": {
        "id": "CFZvrVmsvvQQ",
        "colab_type": "text"
      },
      "source": [
        "\n",
        "1.   Note that the transaction date appears as both date_transaction and split date year, month and day. The full date does not give us good data for days and months so we will lower it. And leave the three properties of the second option.\n",
        "2.  \n",
        "\n",
        "\n",
        "---\n",
        "\n"
      ]
    },
    {
      "cell_type": "code",
      "metadata": {
        "id": "23fAc6-QbQTG",
        "colab_type": "code",
        "outputId": "8afabb7a-aa1c-4a9c-e679-67a576f5ae92",
        "colab": {
          "base_uri": "https://localhost:8080/",
          "height": 204
        }
      },
      "source": [
        "df = df[df['year']>1900]\n",
        "df['floors'] = df['floors'].fillna(5)\n",
        "df['dirotbnyn'] = df['dirotbnyn'].fillna(18)\n",
        "df['soceco'] = df['soceco'].fillna(0.16788)\n"
      ],
      "execution_count": 0,
      "outputs": [
        {
          "output_type": "execute_result",
          "data": {
            "text/html": [
              "<div>\n",
              "<style scoped>\n",
              "    .dataframe tbody tr th:only-of-type {\n",
              "        vertical-align: middle;\n",
              "    }\n",
              "\n",
              "    .dataframe tbody tr th {\n",
              "        vertical-align: top;\n",
              "    }\n",
              "\n",
              "    .dataframe thead th {\n",
              "        text-align: right;\n",
              "    }\n",
              "</style>\n",
              "<table border=\"1\" class=\"dataframe\">\n",
              "  <thead>\n",
              "    <tr style=\"text-align: right;\">\n",
              "      <th></th>\n",
              "      <th>gush_helka</th>\n",
              "      <th>price_sheqel</th>\n",
              "      <th>year_of_construction</th>\n",
              "      <th>floor</th>\n",
              "      <th>shetachneto</th>\n",
              "      <th>type</th>\n",
              "      <th>floors</th>\n",
              "      <th>dirotbnyn</th>\n",
              "      <th>year</th>\n",
              "      <th>month</th>\n",
              "      <th>day</th>\n",
              "      <th>soceco</th>\n",
              "    </tr>\n",
              "  </thead>\n",
              "  <tbody>\n",
              "    <tr>\n",
              "      <th>0</th>\n",
              "      <td>007621-0467</td>\n",
              "      <td>2585000.0</td>\n",
              "      <td>2011.0</td>\n",
              "      <td>1.0</td>\n",
              "      <td>112.0</td>\n",
              "      <td>דירה בבית קומות</td>\n",
              "      <td>6.0</td>\n",
              "      <td>19.0</td>\n",
              "      <td>2019.0</td>\n",
              "      <td>7.0</td>\n",
              "      <td>25.0</td>\n",
              "      <td>0.139017</td>\n",
              "    </tr>\n",
              "    <tr>\n",
              "      <th>1</th>\n",
              "      <td>007074-0022</td>\n",
              "      <td>1940000.0</td>\n",
              "      <td>1970.0</td>\n",
              "      <td>11.0</td>\n",
              "      <td>72.0</td>\n",
              "      <td>דירה בבית קומות</td>\n",
              "      <td>14.0</td>\n",
              "      <td>72.0</td>\n",
              "      <td>2019.0</td>\n",
              "      <td>7.0</td>\n",
              "      <td>25.0</td>\n",
              "      <td>-0.499218</td>\n",
              "    </tr>\n",
              "    <tr>\n",
              "      <th>2</th>\n",
              "      <td>012612-0008</td>\n",
              "      <td>1400000.0</td>\n",
              "      <td>2005.0</td>\n",
              "      <td>1.0</td>\n",
              "      <td>85.0</td>\n",
              "      <td>דירה בבית קומות</td>\n",
              "      <td>4.0</td>\n",
              "      <td>11.0</td>\n",
              "      <td>2019.0</td>\n",
              "      <td>7.0</td>\n",
              "      <td>25.0</td>\n",
              "      <td>-0.759605</td>\n",
              "    </tr>\n",
              "    <tr>\n",
              "      <th>3</th>\n",
              "      <td>006435-0284</td>\n",
              "      <td>1800000.0</td>\n",
              "      <td>1998.0</td>\n",
              "      <td>2.0</td>\n",
              "      <td>109.0</td>\n",
              "      <td>דירה בבית קומות</td>\n",
              "      <td>7.0</td>\n",
              "      <td>29.0</td>\n",
              "      <td>2019.0</td>\n",
              "      <td>7.0</td>\n",
              "      <td>24.0</td>\n",
              "      <td>0.294809</td>\n",
              "    </tr>\n",
              "    <tr>\n",
              "      <th>4</th>\n",
              "      <td>007960-0031</td>\n",
              "      <td>1220000.0</td>\n",
              "      <td>1970.0</td>\n",
              "      <td>7.0</td>\n",
              "      <td>62.0</td>\n",
              "      <td>דירה בבית קומות</td>\n",
              "      <td>8.0</td>\n",
              "      <td>32.0</td>\n",
              "      <td>2019.0</td>\n",
              "      <td>7.0</td>\n",
              "      <td>24.0</td>\n",
              "      <td>-0.647234</td>\n",
              "    </tr>\n",
              "  </tbody>\n",
              "</table>\n",
              "</div>"
            ],
            "text/plain": [
              "    gush_helka  price_sheqel  year_of_construction  ...  month   day    soceco\n",
              "0  007621-0467     2585000.0                2011.0  ...    7.0  25.0  0.139017\n",
              "1  007074-0022     1940000.0                1970.0  ...    7.0  25.0 -0.499218\n",
              "2  012612-0008     1400000.0                2005.0  ...    7.0  25.0 -0.759605\n",
              "3  006435-0284     1800000.0                1998.0  ...    7.0  24.0  0.294809\n",
              "4  007960-0031     1220000.0                1970.0  ...    7.0  24.0 -0.647234\n",
              "\n",
              "[5 rows x 12 columns]"
            ]
          },
          "metadata": {
            "tags": []
          },
          "execution_count": 15
        }
      ]
    },
    {
      "cell_type": "code",
      "metadata": {
        "id": "EI_orUymbc9i",
        "colab_type": "code",
        "colab": {}
      },
      "source": [
        "df_temp = df.sample(frac=.7)\n",
        "del df    \n",
        "df = df_temp\n",
        "del df_temp\n",
        "df['gush'] = df['gush_helka'].apply(lambda x: x.split('-')[0])"
      ],
      "execution_count": 0,
      "outputs": []
    },
    {
      "cell_type": "code",
      "metadata": {
        "id": "6o9rz4sybc3g",
        "colab_type": "code",
        "outputId": "46ca90cc-bcf6-47ae-99ea-78607678a435",
        "colab": {
          "base_uri": "https://localhost:8080/",
          "height": 204
        }
      },
      "source": [
        "df = df.drop('gush_helka', axis=1)\n",
        "df.head()"
      ],
      "execution_count": 0,
      "outputs": [
        {
          "output_type": "execute_result",
          "data": {
            "text/html": [
              "<div>\n",
              "<style scoped>\n",
              "    .dataframe tbody tr th:only-of-type {\n",
              "        vertical-align: middle;\n",
              "    }\n",
              "\n",
              "    .dataframe tbody tr th {\n",
              "        vertical-align: top;\n",
              "    }\n",
              "\n",
              "    .dataframe thead th {\n",
              "        text-align: right;\n",
              "    }\n",
              "</style>\n",
              "<table border=\"1\" class=\"dataframe\">\n",
              "  <thead>\n",
              "    <tr style=\"text-align: right;\">\n",
              "      <th></th>\n",
              "      <th>price_sheqel</th>\n",
              "      <th>year_of_construction</th>\n",
              "      <th>floor</th>\n",
              "      <th>shetachneto</th>\n",
              "      <th>type</th>\n",
              "      <th>floors</th>\n",
              "      <th>dirotbnyn</th>\n",
              "      <th>year</th>\n",
              "      <th>month</th>\n",
              "      <th>day</th>\n",
              "      <th>soceco</th>\n",
              "      <th>gush</th>\n",
              "    </tr>\n",
              "  </thead>\n",
              "  <tbody>\n",
              "    <tr>\n",
              "      <th>358698</th>\n",
              "      <td>1100000.0</td>\n",
              "      <td>1964.0</td>\n",
              "      <td>2.0</td>\n",
              "      <td>54.0</td>\n",
              "      <td>דירה בבית קומות</td>\n",
              "      <td>4.0</td>\n",
              "      <td>10.0</td>\n",
              "      <td>2013.0</td>\n",
              "      <td>2.0</td>\n",
              "      <td>27.0</td>\n",
              "      <td>-1.046986</td>\n",
              "      <td>006122</td>\n",
              "    </tr>\n",
              "    <tr>\n",
              "      <th>334026</th>\n",
              "      <td>2391595.0</td>\n",
              "      <td>2013.0</td>\n",
              "      <td>13.0</td>\n",
              "      <td>134.0</td>\n",
              "      <td>דירה בבית קומות</td>\n",
              "      <td>17.0</td>\n",
              "      <td>54.0</td>\n",
              "      <td>2013.0</td>\n",
              "      <td>7.0</td>\n",
              "      <td>23.0</td>\n",
              "      <td>0.439560</td>\n",
              "      <td>003946</td>\n",
              "    </tr>\n",
              "    <tr>\n",
              "      <th>610031</th>\n",
              "      <td>1640000.0</td>\n",
              "      <td>2009.0</td>\n",
              "      <td>2.0</td>\n",
              "      <td>117.0</td>\n",
              "      <td>דירה בבית קומות</td>\n",
              "      <td>8.0</td>\n",
              "      <td>33.0</td>\n",
              "      <td>2009.0</td>\n",
              "      <td>9.0</td>\n",
              "      <td>13.0</td>\n",
              "      <td>1.781149</td>\n",
              "      <td>006715</td>\n",
              "    </tr>\n",
              "    <tr>\n",
              "      <th>457860</th>\n",
              "      <td>650000.0</td>\n",
              "      <td>1970.0</td>\n",
              "      <td>0.0</td>\n",
              "      <td>85.0</td>\n",
              "      <td>דירה בבית קומות</td>\n",
              "      <td>5.0</td>\n",
              "      <td>18.0</td>\n",
              "      <td>2011.0</td>\n",
              "      <td>9.0</td>\n",
              "      <td>21.0</td>\n",
              "      <td>-0.677741</td>\n",
              "      <td>010570</td>\n",
              "    </tr>\n",
              "    <tr>\n",
              "      <th>560735</th>\n",
              "      <td>1349999.0</td>\n",
              "      <td>1997.0</td>\n",
              "      <td>1.0</td>\n",
              "      <td>160.0</td>\n",
              "      <td>קוטג' חד-משפחתי</td>\n",
              "      <td>1.0</td>\n",
              "      <td>18.0</td>\n",
              "      <td>2010.0</td>\n",
              "      <td>5.0</td>\n",
              "      <td>6.0</td>\n",
              "      <td>0.167880</td>\n",
              "      <td>010562</td>\n",
              "    </tr>\n",
              "  </tbody>\n",
              "</table>\n",
              "</div>"
            ],
            "text/plain": [
              "        price_sheqel  year_of_construction  floor  ...   day    soceco    gush\n",
              "358698     1100000.0                1964.0    2.0  ...  27.0 -1.046986  006122\n",
              "334026     2391595.0                2013.0   13.0  ...  23.0  0.439560  003946\n",
              "610031     1640000.0                2009.0    2.0  ...  13.0  1.781149  006715\n",
              "457860      650000.0                1970.0    0.0  ...  21.0 -0.677741  010570\n",
              "560735     1349999.0                1997.0    1.0  ...   6.0  0.167880  010562\n",
              "\n",
              "[5 rows x 12 columns]"
            ]
          },
          "metadata": {
            "tags": []
          },
          "execution_count": 17
        }
      ]
    },
    {
      "cell_type": "code",
      "metadata": {
        "id": "7TkMQxNKbQmF",
        "colab_type": "code",
        "outputId": "bff788ba-f6e9-475b-c871-b3a4b79a3439",
        "colab": {
          "base_uri": "https://localhost:8080/",
          "height": 71
        }
      },
      "source": [
        "profile = ProfileReport(df)\n",
        "profile.to_file(outputfile=\"/content/drive/My Drive/Colab Notebooks/cleaned_data.html\")"
      ],
      "execution_count": 0,
      "outputs": [
        {
          "output_type": "stream",
          "text": [
            "/usr/local/lib/python3.6/dist-packages/pandas_profiling/describe.py:392: FutureWarning: The join_axes-keyword is deprecated. Use .reindex or .reindex_like on the result to achieve the same functionality.\n",
            "  variable_stats = pd.concat(ldesc, join_axes=pd.Index([names]), axis=1)\n"
          ],
          "name": "stderr"
        }
      ]
    },
    {
      "cell_type": "code",
      "metadata": {
        "id": "WTwwHxXibQQl",
        "colab_type": "code",
        "outputId": "3da836e1-f58f-4794-9980-55c4e9378c97",
        "colab": {
          "base_uri": "https://localhost:8080/",
          "height": 270
        }
      },
      "source": [
        "df = pd.get_dummies(df.dropna())\n",
        "df.head()\n",
        "df_2 = df.drop('soceco', axis=1)"
      ],
      "execution_count": 0,
      "outputs": [
        {
          "output_type": "execute_result",
          "data": {
            "text/html": [
              "<div>\n",
              "<style scoped>\n",
              "    .dataframe tbody tr th:only-of-type {\n",
              "        vertical-align: middle;\n",
              "    }\n",
              "\n",
              "    .dataframe tbody tr th {\n",
              "        vertical-align: top;\n",
              "    }\n",
              "\n",
              "    .dataframe thead th {\n",
              "        text-align: right;\n",
              "    }\n",
              "</style>\n",
              "<table border=\"1\" class=\"dataframe\">\n",
              "  <thead>\n",
              "    <tr style=\"text-align: right;\">\n",
              "      <th></th>\n",
              "      <th>price_sheqel</th>\n",
              "      <th>year_of_construction</th>\n",
              "      <th>floor</th>\n",
              "      <th>shetachneto</th>\n",
              "      <th>floors</th>\n",
              "      <th>dirotbnyn</th>\n",
              "      <th>year</th>\n",
              "      <th>month</th>\n",
              "      <th>day</th>\n",
              "      <th>soceco</th>\n",
              "      <th>type_בית בודד</th>\n",
              "      <th>type_דירה בבית קומות</th>\n",
              "      <th>type_דירת גג</th>\n",
              "      <th>type_דירת גן</th>\n",
              "      <th>type_דירת דופלקס</th>\n",
              "      <th>type_קוטג' דו-משפחתי</th>\n",
              "      <th>type_קוטג' חד-משפחתי</th>\n",
              "      <th>type_קוטג' טורי</th>\n",
              "      <th>gush_000001</th>\n",
              "      <th>gush_000071</th>\n",
              "      <th>gush_000117</th>\n",
              "      <th>gush_000119</th>\n",
              "      <th>gush_000124</th>\n",
              "      <th>gush_000181</th>\n",
              "      <th>gush_000182</th>\n",
              "      <th>gush_000187</th>\n",
              "      <th>gush_000196</th>\n",
              "      <th>gush_000204</th>\n",
              "      <th>gush_000240</th>\n",
              "      <th>gush_000259</th>\n",
              "      <th>gush_000265</th>\n",
              "      <th>gush_000266</th>\n",
              "      <th>gush_000268</th>\n",
              "      <th>gush_000283</th>\n",
              "      <th>gush_000301</th>\n",
              "      <th>gush_000309</th>\n",
              "      <th>gush_000310</th>\n",
              "      <th>gush_000311</th>\n",
              "      <th>gush_000315</th>\n",
              "      <th>gush_000326</th>\n",
              "      <th>...</th>\n",
              "      <th>gush_201047</th>\n",
              "      <th>gush_202000</th>\n",
              "      <th>gush_202009</th>\n",
              "      <th>gush_202011</th>\n",
              "      <th>gush_204003</th>\n",
              "      <th>gush_204004</th>\n",
              "      <th>gush_204005</th>\n",
              "      <th>gush_204006</th>\n",
              "      <th>gush_204007</th>\n",
              "      <th>gush_204011</th>\n",
              "      <th>gush_204012</th>\n",
              "      <th>gush_204015</th>\n",
              "      <th>gush_204017</th>\n",
              "      <th>gush_204021</th>\n",
              "      <th>gush_204025</th>\n",
              "      <th>gush_204026</th>\n",
              "      <th>gush_204028</th>\n",
              "      <th>gush_204101</th>\n",
              "      <th>gush_204301</th>\n",
              "      <th>gush_204304</th>\n",
              "      <th>gush_204503</th>\n",
              "      <th>gush_204551</th>\n",
              "      <th>gush_204701</th>\n",
              "      <th>gush_204702</th>\n",
              "      <th>gush_215001</th>\n",
              "      <th>gush_220000</th>\n",
              "      <th>gush_242002</th>\n",
              "      <th>gush_246001</th>\n",
              "      <th>gush_260000</th>\n",
              "      <th>gush_279001</th>\n",
              "      <th>gush_400175</th>\n",
              "      <th>gush_400403</th>\n",
              "      <th>gush_400495</th>\n",
              "      <th>gush_400505</th>\n",
              "      <th>gush_401006</th>\n",
              "      <th>gush_401009</th>\n",
              "      <th>gush_401022</th>\n",
              "      <th>gush_691800</th>\n",
              "      <th>gush_692400</th>\n",
              "      <th>gush_900009</th>\n",
              "    </tr>\n",
              "  </thead>\n",
              "  <tbody>\n",
              "    <tr>\n",
              "      <th>358698</th>\n",
              "      <td>1100000.0</td>\n",
              "      <td>1964.0</td>\n",
              "      <td>2.0</td>\n",
              "      <td>54.0</td>\n",
              "      <td>4.0</td>\n",
              "      <td>10.0</td>\n",
              "      <td>2013.0</td>\n",
              "      <td>2.0</td>\n",
              "      <td>27.0</td>\n",
              "      <td>-1.046986</td>\n",
              "      <td>0</td>\n",
              "      <td>1</td>\n",
              "      <td>0</td>\n",
              "      <td>0</td>\n",
              "      <td>0</td>\n",
              "      <td>0</td>\n",
              "      <td>0</td>\n",
              "      <td>0</td>\n",
              "      <td>0</td>\n",
              "      <td>0</td>\n",
              "      <td>0</td>\n",
              "      <td>0</td>\n",
              "      <td>0</td>\n",
              "      <td>0</td>\n",
              "      <td>0</td>\n",
              "      <td>0</td>\n",
              "      <td>0</td>\n",
              "      <td>0</td>\n",
              "      <td>0</td>\n",
              "      <td>0</td>\n",
              "      <td>0</td>\n",
              "      <td>0</td>\n",
              "      <td>0</td>\n",
              "      <td>0</td>\n",
              "      <td>0</td>\n",
              "      <td>0</td>\n",
              "      <td>0</td>\n",
              "      <td>0</td>\n",
              "      <td>0</td>\n",
              "      <td>0</td>\n",
              "      <td>...</td>\n",
              "      <td>0</td>\n",
              "      <td>0</td>\n",
              "      <td>0</td>\n",
              "      <td>0</td>\n",
              "      <td>0</td>\n",
              "      <td>0</td>\n",
              "      <td>0</td>\n",
              "      <td>0</td>\n",
              "      <td>0</td>\n",
              "      <td>0</td>\n",
              "      <td>0</td>\n",
              "      <td>0</td>\n",
              "      <td>0</td>\n",
              "      <td>0</td>\n",
              "      <td>0</td>\n",
              "      <td>0</td>\n",
              "      <td>0</td>\n",
              "      <td>0</td>\n",
              "      <td>0</td>\n",
              "      <td>0</td>\n",
              "      <td>0</td>\n",
              "      <td>0</td>\n",
              "      <td>0</td>\n",
              "      <td>0</td>\n",
              "      <td>0</td>\n",
              "      <td>0</td>\n",
              "      <td>0</td>\n",
              "      <td>0</td>\n",
              "      <td>0</td>\n",
              "      <td>0</td>\n",
              "      <td>0</td>\n",
              "      <td>0</td>\n",
              "      <td>0</td>\n",
              "      <td>0</td>\n",
              "      <td>0</td>\n",
              "      <td>0</td>\n",
              "      <td>0</td>\n",
              "      <td>0</td>\n",
              "      <td>0</td>\n",
              "      <td>0</td>\n",
              "    </tr>\n",
              "    <tr>\n",
              "      <th>334026</th>\n",
              "      <td>2391595.0</td>\n",
              "      <td>2013.0</td>\n",
              "      <td>13.0</td>\n",
              "      <td>134.0</td>\n",
              "      <td>17.0</td>\n",
              "      <td>54.0</td>\n",
              "      <td>2013.0</td>\n",
              "      <td>7.0</td>\n",
              "      <td>23.0</td>\n",
              "      <td>0.439560</td>\n",
              "      <td>0</td>\n",
              "      <td>1</td>\n",
              "      <td>0</td>\n",
              "      <td>0</td>\n",
              "      <td>0</td>\n",
              "      <td>0</td>\n",
              "      <td>0</td>\n",
              "      <td>0</td>\n",
              "      <td>0</td>\n",
              "      <td>0</td>\n",
              "      <td>0</td>\n",
              "      <td>0</td>\n",
              "      <td>0</td>\n",
              "      <td>0</td>\n",
              "      <td>0</td>\n",
              "      <td>0</td>\n",
              "      <td>0</td>\n",
              "      <td>0</td>\n",
              "      <td>0</td>\n",
              "      <td>0</td>\n",
              "      <td>0</td>\n",
              "      <td>0</td>\n",
              "      <td>0</td>\n",
              "      <td>0</td>\n",
              "      <td>0</td>\n",
              "      <td>0</td>\n",
              "      <td>0</td>\n",
              "      <td>0</td>\n",
              "      <td>0</td>\n",
              "      <td>0</td>\n",
              "      <td>...</td>\n",
              "      <td>0</td>\n",
              "      <td>0</td>\n",
              "      <td>0</td>\n",
              "      <td>0</td>\n",
              "      <td>0</td>\n",
              "      <td>0</td>\n",
              "      <td>0</td>\n",
              "      <td>0</td>\n",
              "      <td>0</td>\n",
              "      <td>0</td>\n",
              "      <td>0</td>\n",
              "      <td>0</td>\n",
              "      <td>0</td>\n",
              "      <td>0</td>\n",
              "      <td>0</td>\n",
              "      <td>0</td>\n",
              "      <td>0</td>\n",
              "      <td>0</td>\n",
              "      <td>0</td>\n",
              "      <td>0</td>\n",
              "      <td>0</td>\n",
              "      <td>0</td>\n",
              "      <td>0</td>\n",
              "      <td>0</td>\n",
              "      <td>0</td>\n",
              "      <td>0</td>\n",
              "      <td>0</td>\n",
              "      <td>0</td>\n",
              "      <td>0</td>\n",
              "      <td>0</td>\n",
              "      <td>0</td>\n",
              "      <td>0</td>\n",
              "      <td>0</td>\n",
              "      <td>0</td>\n",
              "      <td>0</td>\n",
              "      <td>0</td>\n",
              "      <td>0</td>\n",
              "      <td>0</td>\n",
              "      <td>0</td>\n",
              "      <td>0</td>\n",
              "    </tr>\n",
              "    <tr>\n",
              "      <th>610031</th>\n",
              "      <td>1640000.0</td>\n",
              "      <td>2009.0</td>\n",
              "      <td>2.0</td>\n",
              "      <td>117.0</td>\n",
              "      <td>8.0</td>\n",
              "      <td>33.0</td>\n",
              "      <td>2009.0</td>\n",
              "      <td>9.0</td>\n",
              "      <td>13.0</td>\n",
              "      <td>1.781149</td>\n",
              "      <td>0</td>\n",
              "      <td>1</td>\n",
              "      <td>0</td>\n",
              "      <td>0</td>\n",
              "      <td>0</td>\n",
              "      <td>0</td>\n",
              "      <td>0</td>\n",
              "      <td>0</td>\n",
              "      <td>0</td>\n",
              "      <td>0</td>\n",
              "      <td>0</td>\n",
              "      <td>0</td>\n",
              "      <td>0</td>\n",
              "      <td>0</td>\n",
              "      <td>0</td>\n",
              "      <td>0</td>\n",
              "      <td>0</td>\n",
              "      <td>0</td>\n",
              "      <td>0</td>\n",
              "      <td>0</td>\n",
              "      <td>0</td>\n",
              "      <td>0</td>\n",
              "      <td>0</td>\n",
              "      <td>0</td>\n",
              "      <td>0</td>\n",
              "      <td>0</td>\n",
              "      <td>0</td>\n",
              "      <td>0</td>\n",
              "      <td>0</td>\n",
              "      <td>0</td>\n",
              "      <td>...</td>\n",
              "      <td>0</td>\n",
              "      <td>0</td>\n",
              "      <td>0</td>\n",
              "      <td>0</td>\n",
              "      <td>0</td>\n",
              "      <td>0</td>\n",
              "      <td>0</td>\n",
              "      <td>0</td>\n",
              "      <td>0</td>\n",
              "      <td>0</td>\n",
              "      <td>0</td>\n",
              "      <td>0</td>\n",
              "      <td>0</td>\n",
              "      <td>0</td>\n",
              "      <td>0</td>\n",
              "      <td>0</td>\n",
              "      <td>0</td>\n",
              "      <td>0</td>\n",
              "      <td>0</td>\n",
              "      <td>0</td>\n",
              "      <td>0</td>\n",
              "      <td>0</td>\n",
              "      <td>0</td>\n",
              "      <td>0</td>\n",
              "      <td>0</td>\n",
              "      <td>0</td>\n",
              "      <td>0</td>\n",
              "      <td>0</td>\n",
              "      <td>0</td>\n",
              "      <td>0</td>\n",
              "      <td>0</td>\n",
              "      <td>0</td>\n",
              "      <td>0</td>\n",
              "      <td>0</td>\n",
              "      <td>0</td>\n",
              "      <td>0</td>\n",
              "      <td>0</td>\n",
              "      <td>0</td>\n",
              "      <td>0</td>\n",
              "      <td>0</td>\n",
              "    </tr>\n",
              "    <tr>\n",
              "      <th>457860</th>\n",
              "      <td>650000.0</td>\n",
              "      <td>1970.0</td>\n",
              "      <td>0.0</td>\n",
              "      <td>85.0</td>\n",
              "      <td>5.0</td>\n",
              "      <td>18.0</td>\n",
              "      <td>2011.0</td>\n",
              "      <td>9.0</td>\n",
              "      <td>21.0</td>\n",
              "      <td>-0.677741</td>\n",
              "      <td>0</td>\n",
              "      <td>1</td>\n",
              "      <td>0</td>\n",
              "      <td>0</td>\n",
              "      <td>0</td>\n",
              "      <td>0</td>\n",
              "      <td>0</td>\n",
              "      <td>0</td>\n",
              "      <td>0</td>\n",
              "      <td>0</td>\n",
              "      <td>0</td>\n",
              "      <td>0</td>\n",
              "      <td>0</td>\n",
              "      <td>0</td>\n",
              "      <td>0</td>\n",
              "      <td>0</td>\n",
              "      <td>0</td>\n",
              "      <td>0</td>\n",
              "      <td>0</td>\n",
              "      <td>0</td>\n",
              "      <td>0</td>\n",
              "      <td>0</td>\n",
              "      <td>0</td>\n",
              "      <td>0</td>\n",
              "      <td>0</td>\n",
              "      <td>0</td>\n",
              "      <td>0</td>\n",
              "      <td>0</td>\n",
              "      <td>0</td>\n",
              "      <td>0</td>\n",
              "      <td>...</td>\n",
              "      <td>0</td>\n",
              "      <td>0</td>\n",
              "      <td>0</td>\n",
              "      <td>0</td>\n",
              "      <td>0</td>\n",
              "      <td>0</td>\n",
              "      <td>0</td>\n",
              "      <td>0</td>\n",
              "      <td>0</td>\n",
              "      <td>0</td>\n",
              "      <td>0</td>\n",
              "      <td>0</td>\n",
              "      <td>0</td>\n",
              "      <td>0</td>\n",
              "      <td>0</td>\n",
              "      <td>0</td>\n",
              "      <td>0</td>\n",
              "      <td>0</td>\n",
              "      <td>0</td>\n",
              "      <td>0</td>\n",
              "      <td>0</td>\n",
              "      <td>0</td>\n",
              "      <td>0</td>\n",
              "      <td>0</td>\n",
              "      <td>0</td>\n",
              "      <td>0</td>\n",
              "      <td>0</td>\n",
              "      <td>0</td>\n",
              "      <td>0</td>\n",
              "      <td>0</td>\n",
              "      <td>0</td>\n",
              "      <td>0</td>\n",
              "      <td>0</td>\n",
              "      <td>0</td>\n",
              "      <td>0</td>\n",
              "      <td>0</td>\n",
              "      <td>0</td>\n",
              "      <td>0</td>\n",
              "      <td>0</td>\n",
              "      <td>0</td>\n",
              "    </tr>\n",
              "    <tr>\n",
              "      <th>560735</th>\n",
              "      <td>1349999.0</td>\n",
              "      <td>1997.0</td>\n",
              "      <td>1.0</td>\n",
              "      <td>160.0</td>\n",
              "      <td>1.0</td>\n",
              "      <td>18.0</td>\n",
              "      <td>2010.0</td>\n",
              "      <td>5.0</td>\n",
              "      <td>6.0</td>\n",
              "      <td>0.167880</td>\n",
              "      <td>0</td>\n",
              "      <td>0</td>\n",
              "      <td>0</td>\n",
              "      <td>0</td>\n",
              "      <td>0</td>\n",
              "      <td>0</td>\n",
              "      <td>1</td>\n",
              "      <td>0</td>\n",
              "      <td>0</td>\n",
              "      <td>0</td>\n",
              "      <td>0</td>\n",
              "      <td>0</td>\n",
              "      <td>0</td>\n",
              "      <td>0</td>\n",
              "      <td>0</td>\n",
              "      <td>0</td>\n",
              "      <td>0</td>\n",
              "      <td>0</td>\n",
              "      <td>0</td>\n",
              "      <td>0</td>\n",
              "      <td>0</td>\n",
              "      <td>0</td>\n",
              "      <td>0</td>\n",
              "      <td>0</td>\n",
              "      <td>0</td>\n",
              "      <td>0</td>\n",
              "      <td>0</td>\n",
              "      <td>0</td>\n",
              "      <td>0</td>\n",
              "      <td>0</td>\n",
              "      <td>...</td>\n",
              "      <td>0</td>\n",
              "      <td>0</td>\n",
              "      <td>0</td>\n",
              "      <td>0</td>\n",
              "      <td>0</td>\n",
              "      <td>0</td>\n",
              "      <td>0</td>\n",
              "      <td>0</td>\n",
              "      <td>0</td>\n",
              "      <td>0</td>\n",
              "      <td>0</td>\n",
              "      <td>0</td>\n",
              "      <td>0</td>\n",
              "      <td>0</td>\n",
              "      <td>0</td>\n",
              "      <td>0</td>\n",
              "      <td>0</td>\n",
              "      <td>0</td>\n",
              "      <td>0</td>\n",
              "      <td>0</td>\n",
              "      <td>0</td>\n",
              "      <td>0</td>\n",
              "      <td>0</td>\n",
              "      <td>0</td>\n",
              "      <td>0</td>\n",
              "      <td>0</td>\n",
              "      <td>0</td>\n",
              "      <td>0</td>\n",
              "      <td>0</td>\n",
              "      <td>0</td>\n",
              "      <td>0</td>\n",
              "      <td>0</td>\n",
              "      <td>0</td>\n",
              "      <td>0</td>\n",
              "      <td>0</td>\n",
              "      <td>0</td>\n",
              "      <td>0</td>\n",
              "      <td>0</td>\n",
              "      <td>0</td>\n",
              "      <td>0</td>\n",
              "    </tr>\n",
              "  </tbody>\n",
              "</table>\n",
              "<p>5 rows × 6318 columns</p>\n",
              "</div>"
            ],
            "text/plain": [
              "        price_sheqel  year_of_construction  ...  gush_692400  gush_900009\n",
              "358698     1100000.0                1964.0  ...            0            0\n",
              "334026     2391595.0                2013.0  ...            0            0\n",
              "610031     1640000.0                2009.0  ...            0            0\n",
              "457860      650000.0                1970.0  ...            0            0\n",
              "560735     1349999.0                1997.0  ...            0            0\n",
              "\n",
              "[5 rows x 6318 columns]"
            ]
          },
          "metadata": {
            "tags": []
          },
          "execution_count": 19
        }
      ]
    },
    {
      "cell_type": "markdown",
      "metadata": {
        "id": "RPQz94Pm8MbG",
        "colab_type": "text"
      },
      "source": [
        "split data to train\\test:"
      ]
    },
    {
      "cell_type": "code",
      "metadata": {
        "id": "sO6pu2JlbQN4",
        "colab_type": "code",
        "colab": {}
      },
      "source": [
        "train_df, test_df, y_train, y_test = train_test_split(df.drop('price_sheqel', axis=1), df['price_sheqel'], test_size=.2)"
      ],
      "execution_count": 0,
      "outputs": []
    },
    {
      "cell_type": "code",
      "metadata": {
        "id": "PEKUH60JHf2L",
        "colab_type": "code",
        "outputId": "c5a1bc3d-4093-42ae-bb8f-7474fc8eb688",
        "colab": {
          "base_uri": "https://localhost:8080/",
          "height": 163
        }
      },
      "source": [
        "#Generating dataframe without the 'soceco' feature\n",
        "train_df2, test_df2, y_train2, y_test2 = train_df.drop('soceco', axis=1), test_df.drop('soceco', axis=1), y_train, y_test"
      ],
      "execution_count": 0,
      "outputs": [
        {
          "output_type": "error",
          "ename": "NameError",
          "evalue": "ignored",
          "traceback": [
            "\u001b[0;31m---------------------------------------------------------------------------\u001b[0m",
            "\u001b[0;31mNameError\u001b[0m                                 Traceback (most recent call last)",
            "\u001b[0;32m<ipython-input-2-7d27430864aa>\u001b[0m in \u001b[0;36m<module>\u001b[0;34m()\u001b[0m\n\u001b[0;32m----> 1\u001b[0;31m \u001b[0mtrain_df2\u001b[0m\u001b[0;34m,\u001b[0m \u001b[0mtest_df2\u001b[0m\u001b[0;34m,\u001b[0m \u001b[0my_train2\u001b[0m\u001b[0;34m,\u001b[0m \u001b[0my_test2\u001b[0m \u001b[0;34m=\u001b[0m \u001b[0mtrain_df\u001b[0m\u001b[0;34m.\u001b[0m\u001b[0mdrop\u001b[0m\u001b[0;34m(\u001b[0m\u001b[0;34m'soceco'\u001b[0m\u001b[0;34m,\u001b[0m \u001b[0maxis\u001b[0m\u001b[0;34m=\u001b[0m\u001b[0;36m1\u001b[0m\u001b[0;34m)\u001b[0m\u001b[0;34m,\u001b[0m \u001b[0mtest_df\u001b[0m\u001b[0;34m.\u001b[0m\u001b[0mdrop\u001b[0m\u001b[0;34m(\u001b[0m\u001b[0;34m'soceco'\u001b[0m\u001b[0;34m,\u001b[0m \u001b[0maxis\u001b[0m\u001b[0;34m=\u001b[0m\u001b[0;36m1\u001b[0m\u001b[0;34m)\u001b[0m\u001b[0;34m,\u001b[0m \u001b[0my_train\u001b[0m\u001b[0;34m,\u001b[0m \u001b[0my_test\u001b[0m\u001b[0;34m\u001b[0m\u001b[0;34m\u001b[0m\u001b[0m\n\u001b[0m",
            "\u001b[0;31mNameError\u001b[0m: name 'train_df' is not defined"
          ]
        }
      ]
    },
    {
      "cell_type": "code",
      "metadata": {
        "id": "xGh1aPG1HfoE",
        "colab_type": "code",
        "colab": {}
      },
      "source": [
        "del df\n",
        "del df_2"
      ],
      "execution_count": 0,
      "outputs": []
    },
    {
      "cell_type": "markdown",
      "metadata": {
        "id": "hcxN287aFFBF",
        "colab_type": "text"
      },
      "source": [
        "### **Random Forest Regressor :**"
      ]
    },
    {
      "cell_type": "code",
      "metadata": {
        "id": "Xdjqwg-vbQLd",
        "colab_type": "code",
        "colab": {}
      },
      "source": [
        "# Import the model we are using\n",
        "from sklearn.ensemble import RandomForestRegressor\n",
        "min_samples_in_a_leaf = 30"
      ],
      "execution_count": 0,
      "outputs": []
    },
    {
      "cell_type": "code",
      "metadata": {
        "id": "s5meiGkytAx_",
        "colab_type": "code",
        "colab": {}
      },
      "source": [
        "# Instantiate model with 100 decision trees\n",
        "rf = RandomForestRegressor(n_estimators = 100, random_state = 42, verbose=100, min_samples_leaf=min_samples_in_a_leaf, n_jobs=-1)\n",
        "rf_no_soceco = RandomForestRegressor(n_estimators = 100, random_state = 42, verbose=100, min_samples_leaf=min_samples_in_a_leaf, n_jobs=-1)\n"
      ],
      "execution_count": 0,
      "outputs": []
    },
    {
      "cell_type": "markdown",
      "metadata": {
        "id": "AGgZumOKorpd",
        "colab_type": "text"
      },
      "source": [
        "####Train the model on training data\n"
      ]
    },
    {
      "cell_type": "code",
      "metadata": {
        "id": "4iGfS8rWtSsN",
        "colab_type": "code",
        "colab": {}
      },
      "source": [
        "#Train the models on training data\n",
        "rf.fit(train_df, y_train)\n",
        "rf_no_soceco.fit(train_df2, y_train2)"
      ],
      "execution_count": 0,
      "outputs": []
    },
    {
      "cell_type": "markdown",
      "metadata": {
        "id": "2Gu36VxapFKc",
        "colab_type": "text"
      },
      "source": [
        "####Test the model on the the test data"
      ]
    },
    {
      "cell_type": "code",
      "metadata": {
        "id": "-5XTRiK9bQFe",
        "colab_type": "code",
        "colab": {}
      },
      "source": [
        "# Use the forest's predict method on the test data\n",
        "predictions  = rf.predict(test_df)\n",
        "predictions_no_soceco = rf_no_soceco.predict(test_df2)\n",
        "\n",
        "# Calculate the absolute errors\n",
        "errors = abs(predictions - y_test)\n",
        "# Print out the mean absolute error (mae)\n",
        "print(f'Mean Absolute Error: {round(np.mean(errors), 2)} shekel')\n",
        "print(f'Median Absolute Error: {round(np.median(errors), 2)} shekel')\n",
        "\n",
        "# Calculate the absolute errors\n",
        "errors = abs(predictions_no_soceco - y_test2)\n",
        "# Print out the mean absolute error (mae)\n",
        "print(f'Predictions_no_soceco mean Absolute Error: {round(np.mean(errors), 2)} shekel')\n",
        "print(f'Predictions_no_soceco median Absolute Error: {round(np.median(errors), 2)} shekel')"
      ],
      "execution_count": 0,
      "outputs": []
    },
    {
      "cell_type": "markdown",
      "metadata": {
        "id": "7znkBhb0pkh2",
        "colab_type": "text"
      },
      "source": [
        "####Save model to file:"
      ]
    },
    {
      "cell_type": "code",
      "metadata": {
        "id": "sDl5FlC5rJDB",
        "colab_type": "code",
        "colab": {}
      },
      "source": [
        "import joblib\n",
        "joblib_file =folder_path + 'RandomForestRegressor_model.pkl'\n",
        "joblib_file =folder_path + 'RandomForestRegressor_model_no_soceco.pkl'\n",
        "joblib.dump(rf,joblib_file)\n",
        "joblib.dump(rf_no_soceco,joblib_file_no_soceco)\n",
        "\n",
        "# test_df.to_csv (folder_path+ r'export_dataframe.csv', index = False, header=True)\n",
        "# y_test.to_csv  (folder_path + r'export_dataframe.csv', index = False, header=True)\n",
        "dataframe_row = folder_path + 'dataframe_row.csv'\n",
        "test_df.head(1).to_csv (dataframe_row, index = False, header=True)\n"
      ],
      "execution_count": 0,
      "outputs": []
    },
    {
      "cell_type": "markdown",
      "metadata": {
        "id": "1U3pKGs25o9L",
        "colab_type": "text"
      },
      "source": [
        "#### Load model from file:"
      ]
    },
    {
      "cell_type": "code",
      "metadata": {
        "id": "nEdiHTsusEwY",
        "colab_type": "code",
        "colab": {}
      },
      "source": [
        "loaded_model = joblib.load(joblib_file)\n"
      ],
      "execution_count": 0,
      "outputs": []
    },
    {
      "cell_type": "code",
      "metadata": {
        "id": "d8NaK7mjsb_l",
        "colab_type": "code",
        "colab": {}
      },
      "source": [
        "test_index = 3\n",
        "input_row = test_df.head(test_index)\n",
        "input_row = test_df.head(test_index)\n",
        "real_output = y_test.head(test_index)\n",
        "print(input_row )\n",
        "print(real_output)\n",
        "prediction = loaded_model.predict(input_row)\n",
        "error = abs(prediction - y_test.head(test_index))\n",
        "print(f'Prediction Error: {error} shekel')\n",
        "\n",
        "# prediced_row.head()"
      ],
      "execution_count": 0,
      "outputs": []
    },
    {
      "cell_type": "code",
      "metadata": {
        "id": "MR6xYqg-uNmw",
        "colab_type": "code",
        "colab": {}
      },
      "source": [
        "test_index = 3\n",
        "input_row = test_df.iloc[[test_index]]\n",
        "print (input_row)\n",
        "real_output = y_test.iloc[[test_index]]\n",
        "print(input_row )\n",
        "print(real_output)\n",
        "prediction = loaded_model.predict(input_row)\n",
        "error = abs(prediction - y_test.iloc[[test_index]])\n",
        "print(f'Prediction Error: {error} shekel')\n",
        "print(error)\n"
      ],
      "execution_count": 0,
      "outputs": []
    },
    {
      "cell_type": "code",
      "metadata": {
        "id": "MXUZ-DxZp69p",
        "colab_type": "code",
        "colab": {}
      },
      "source": [
        "importances = list(zip(train_df.columns.to_list(), rf.feature_importances_))\n",
        "epsilon = 0.0001\n",
        "count = 0\n",
        "for col, val in sorted(importances, key=lambda x: x[1], reverse=True):\n",
        "    if val > epsilon:\n",
        "      count = count + 1\n",
        "      print(f'{col}: {val}')\n",
        "print(count)"
      ],
      "execution_count": 0,
      "outputs": []
    },
    {
      "cell_type": "code",
      "metadata": {
        "id": "Ndb_C2KFp__R",
        "colab_type": "code",
        "colab": {}
      },
      "source": [
        "# original.dropna()[original['gush_helka'].dropna().str.contains('009126')].sort_values('price_sheqel')"
      ],
      "execution_count": 0,
      "outputs": []
    },
    {
      "cell_type": "markdown",
      "metadata": {
        "id": "YoOxpC0QEt-t",
        "colab_type": "text"
      },
      "source": [
        "### **Linear Regression:**"
      ]
    },
    {
      "cell_type": "code",
      "metadata": {
        "id": "pzv5GouFqAzP",
        "colab_type": "code",
        "colab": {}
      },
      "source": [
        "from sklearn.linear_model import LinearRegression\n",
        "reg = LinearRegression()\n",
        "reg.fit(train_df, y_train)"
      ],
      "execution_count": 0,
      "outputs": []
    },
    {
      "cell_type": "code",
      "metadata": {
        "id": "3l3dTN84Xjnl",
        "colab_type": "code",
        "colab": {}
      },
      "source": [
        "from sklearn.linear_model import SGDRegressor\n",
        "reg = SGDRegressor()\n",
        "reg.fit(train_df, y_train)"
      ],
      "execution_count": 0,
      "outputs": []
    },
    {
      "cell_type": "markdown",
      "metadata": {
        "id": "Uvc6J47LEsX4",
        "colab_type": "text"
      },
      "source": [
        ""
      ]
    },
    {
      "cell_type": "code",
      "metadata": {
        "id": "Tn4SFjftEiGl",
        "colab_type": "code",
        "colab": {}
      },
      "source": [
        "# Use the forest's predict method on the test data\n",
        "predictions = reg.predict(test_df)"
      ],
      "execution_count": 0,
      "outputs": []
    },
    {
      "cell_type": "code",
      "metadata": {
        "id": "KBICXGG_EjGM",
        "colab_type": "code",
        "colab": {}
      },
      "source": [
        "# Calculate the absolute errors\n",
        "errors = abs(predictions - y_test)\n",
        "# Print out the mean absolute error (mae)\n",
        "print(f'Mean Absolute Error: {round(np.mean(errors), 2)} shekel')"
      ],
      "execution_count": 0,
      "outputs": []
    },
    {
      "cell_type": "markdown",
      "metadata": {
        "id": "YnF6X6kGFTiu",
        "colab_type": "text"
      },
      "source": [
        ""
      ]
    }
  ]
}